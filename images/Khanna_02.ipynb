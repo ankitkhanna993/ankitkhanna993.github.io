{
 "cells": [
  {
   "cell_type": "markdown",
   "metadata": {},
   "source": [
    "# KNN on IRIS Dataset "
   ]
  },
  {
   "cell_type": "markdown",
   "metadata": {},
   "source": [
    "### ANKIT KHANNA\n",
    "### ID: 1001553616"
   ]
  },
  {
   "cell_type": "markdown",
   "metadata": {},
   "source": [
    "#### Importing Libraries"
   ]
  },
  {
   "cell_type": "code",
   "execution_count": 409,
   "metadata": {},
   "outputs": [],
   "source": [
    "import pandas as pd\n",
    "import numpy as np\n",
    "import math\n",
    "import operator\n",
    "from collections import Counter\n",
    "from sklearn.model_selection import train_test_split\n",
    "from sklearn import preprocessing"
   ]
  },
  {
   "cell_type": "markdown",
   "metadata": {},
   "source": [
    "#### Importing and Reading IRIS Dataset"
   ]
  },
  {
   "cell_type": "code",
   "execution_count": 410,
   "metadata": {},
   "outputs": [
    {
     "data": {
      "text/html": [
       "<div>\n",
       "<style scoped>\n",
       "    .dataframe tbody tr th:only-of-type {\n",
       "        vertical-align: middle;\n",
       "    }\n",
       "\n",
       "    .dataframe tbody tr th {\n",
       "        vertical-align: top;\n",
       "    }\n",
       "\n",
       "    .dataframe thead th {\n",
       "        text-align: right;\n",
       "    }\n",
       "</style>\n",
       "<table border=\"1\" class=\"dataframe\">\n",
       "  <thead>\n",
       "    <tr style=\"text-align: right;\">\n",
       "      <th></th>\n",
       "      <th>sepal_length</th>\n",
       "      <th>sepal_width</th>\n",
       "      <th>petal_length</th>\n",
       "      <th>petal_width</th>\n",
       "      <th>class</th>\n",
       "    </tr>\n",
       "  </thead>\n",
       "  <tbody>\n",
       "    <tr>\n",
       "      <th>0</th>\n",
       "      <td>5.1</td>\n",
       "      <td>3.5</td>\n",
       "      <td>1.4</td>\n",
       "      <td>0.2</td>\n",
       "      <td>Iris-setosa</td>\n",
       "    </tr>\n",
       "    <tr>\n",
       "      <th>1</th>\n",
       "      <td>4.9</td>\n",
       "      <td>3.0</td>\n",
       "      <td>1.4</td>\n",
       "      <td>0.2</td>\n",
       "      <td>Iris-setosa</td>\n",
       "    </tr>\n",
       "    <tr>\n",
       "      <th>2</th>\n",
       "      <td>4.7</td>\n",
       "      <td>3.2</td>\n",
       "      <td>1.3</td>\n",
       "      <td>0.2</td>\n",
       "      <td>Iris-setosa</td>\n",
       "    </tr>\n",
       "    <tr>\n",
       "      <th>3</th>\n",
       "      <td>4.6</td>\n",
       "      <td>3.1</td>\n",
       "      <td>1.5</td>\n",
       "      <td>0.2</td>\n",
       "      <td>Iris-setosa</td>\n",
       "    </tr>\n",
       "    <tr>\n",
       "      <th>4</th>\n",
       "      <td>5.0</td>\n",
       "      <td>3.6</td>\n",
       "      <td>1.4</td>\n",
       "      <td>0.2</td>\n",
       "      <td>Iris-setosa</td>\n",
       "    </tr>\n",
       "  </tbody>\n",
       "</table>\n",
       "</div>"
      ],
      "text/plain": [
       "   sepal_length  sepal_width  petal_length  petal_width        class\n",
       "0           5.1          3.5           1.4          0.2  Iris-setosa\n",
       "1           4.9          3.0           1.4          0.2  Iris-setosa\n",
       "2           4.7          3.2           1.3          0.2  Iris-setosa\n",
       "3           4.6          3.1           1.5          0.2  Iris-setosa\n",
       "4           5.0          3.6           1.4          0.2  Iris-setosa"
      ]
     },
     "execution_count": 410,
     "metadata": {},
     "output_type": "execute_result"
    }
   ],
   "source": [
    "col = ['sepal_length','sepal_width','petal_length','petal_width','class']\n",
    "data = pd.read_csv(\"iris.data\", header = None, names = col)\n",
    "data.head()"
   ]
  },
  {
   "cell_type": "code",
   "execution_count": 411,
   "metadata": {},
   "outputs": [
    {
     "name": "stdout",
     "output_type": "stream",
     "text": [
      "Train records: 90 \n",
      "Development records: 30 \n",
      "Test records: 30 \n",
      "Total records: 150\n"
     ]
    }
   ],
   "source": [
    "# variable for label encoder for class column\n",
    "le = preprocessing.LabelEncoder()\n",
    "\n",
    "# data segregation\n",
    "x = data.iloc[:,:4]\n",
    "y = le.fit_transform(list(data[\"class\"]))\n",
    "\n",
    "# 80/20 random split of dataset\n",
    "x_train, x_test, y_train, y_test = train_test_split(x, y, test_size=0.2, random_state = np.random)\n",
    "\n",
    "# 60/20/20 random split of dataset to train, develop and test\n",
    "x_train, x_dev, y_train, y_dev = train_test_split(x_train, y_train, test_size=0.25, random_state = np.random)\n",
    "\n",
    "# converting dataframe into numpy arrays for easier iteration\n",
    "x_train, x_test, y_train, y_test, x_dev, y_dev = np.array(x_train), np.array(x_test), np.array(y_train), np.array(y_test), np.array(x_dev), np.array(y_dev)\n",
    "\n",
    "# Length of train, develop, test and total records\n",
    "print(\"Train records:\", len(x_train),'\\n'\"Development records:\", len(x_dev),'\\n' \"Test records:\", len(x_test),'\\n'\"Total records:\", len(x))"
   ]
  },
  {
   "cell_type": "markdown",
   "metadata": {},
   "source": [
    "#### Functions for Distance Measures"
   ]
  },
  {
   "cell_type": "code",
   "execution_count": 412,
   "metadata": {},
   "outputs": [],
   "source": [
    "def euclidean_distance(row1, row2):\n",
    "    dist = 0.0\n",
    "    for i in range(len(row1)-1):\n",
    "        dist += (row1[i] - row2[i])**2\n",
    "    return math.sqrt(dist)"
   ]
  },
  {
   "cell_type": "code",
   "execution_count": 413,
   "metadata": {},
   "outputs": [],
   "source": [
    "def cosine_similarity_func(row1, row2):\n",
    "    sim = 0.0\n",
    "    dot = np.dot(row1, row2)\n",
    "    norm1 = np.linalg.norm(row1)\n",
    "    norm2 = np.linalg.norm(row2)\n",
    "    sim = dot / (norm1 * norm2)\n",
    "    return sim"
   ]
  },
  {
   "cell_type": "code",
   "execution_count": 414,
   "metadata": {},
   "outputs": [],
   "source": [
    "def normalized_euclidean_distance(row1, row2):\n",
    "    dist = 0.0\n",
    "    dist = 0.5*(np.std(row1-row2)**2) / (np.std(row1)**2+np.std(row2)**2)\n",
    "    return dist"
   ]
  },
  {
   "cell_type": "code",
   "execution_count": 415,
   "metadata": {},
   "outputs": [],
   "source": [
    "def intersection(lst1, lst2): \n",
    "    lst = [value for value in lst1 if value in lst2] \n",
    "    return lst "
   ]
  },
  {
   "cell_type": "markdown",
   "metadata": {},
   "source": [
    "### KNN ALGORITHM"
   ]
  },
  {
   "cell_type": "code",
   "execution_count": 416,
   "metadata": {},
   "outputs": [],
   "source": [
    "def KNN_algo(x_test, x_train, k, metric):\n",
    "    rows = x_test.shape[0]\n",
    "    cols = x_train.shape[0]\n",
    "\n",
    "    # initializing arrays\n",
    "    euc_dist = np.zeros((rows,cols))\n",
    "    cos_dist = np.zeros((rows,cols))\n",
    "    norm_dist = np.zeros((rows,cols))\n",
    "\n",
    "\n",
    "    for row in range(rows):\n",
    "        for col in range(cols):\n",
    "            # for euclidean\n",
    "            euc_dist[row,col] = euclidean_distance(x_test[row], x_train[col])\n",
    "            # for cosine similarity\n",
    "            cos_dist[row,col] = cosine_similarity_func(x_test[row], x_train[col])\n",
    "            # for normalized euclidean distance\n",
    "            norm_dist[row,col] = normalized_euclidean_distance(x_test[row], x_train[col])\n",
    "\n",
    "    if metric.lower() == 'euclidean':\n",
    "        rows = euc_dist.shape[0]\n",
    "        euc_pred = []\n",
    "        \n",
    "        for i in range(rows):\n",
    "            euc_y_idx = np.argsort(euc_dist[i,:])\n",
    "            euc_closest = y_train[euc_y_idx[:k]]\n",
    "            euc_val = Counter(euc_closest).most_common()\n",
    "            euc_pred.append(euc_val[0][0])\n",
    "   \n",
    "        num_correct = np.sum(euc_pred == y_train)\n",
    "        accuracy = float(num_correct) / y_train.shape[0]\n",
    "        num_incorr = len(euc_pred) - num_correct\n",
    "    \n",
    "    elif metric.lower() == 'cosine':\n",
    "        rows = cos_dist.shape[0]\n",
    "        cos_pred = []\n",
    "        \n",
    "        for i in range(rows):\n",
    "            cos_y_idx = np.argsort(cos_dist[i,:])\n",
    "            cos_closest = y_train[cos_y_idx[:k]]\n",
    "            cos_val = Counter(cos_closest).most_common()\n",
    "            cos_pred.append(cos_val[0][0])\n",
    "            \n",
    "        num_correct = len(intersection(cos_pred,y_train))\n",
    "        accuracy = float(num_correct) / y_train.shape[0]\n",
    "        num_incorr = len(cos_pred) - num_correct\n",
    "        \n",
    "    elif metric.lower() == 'normalized euclidean':\n",
    "        rows = norm_dist.shape[0]\n",
    "        neuc_pred = []\n",
    "\n",
    "        for i in range(rows):\n",
    "            neuc_y_idx = np.argsort(norm_dist[i,:])\n",
    "            neuc_closest = y_train[neuc_y_idx[:k]]\n",
    "            neuc_val = Counter(neuc_closest).most_common()\n",
    "            neuc_pred.append(neuc_val[0][0])   \n",
    "            \n",
    "        num_correct = np.sum(neuc_pred == y_train)\n",
    "        accuracy = float(num_correct)/y_train.shape[0]\n",
    "        num_incorr = len(neuc_pred)-num_correct\n",
    "    \n",
    "    print('ACCURACY:')    \n",
    "    print('Correctly classified instances:', num_correct)\n",
    "    print('Incorrectly classified instances:', num_incorr)\n",
    "    print(\"Accuracy based on\", metric,\" with\", k,\"Neighbors:\", accuracy*100,'%')\n",
    "    print('*********************************************************************')\n",
    "    print('\\n')\n",
    "\n",
    "    return accuracy"
   ]
  },
  {
   "cell_type": "markdown",
   "metadata": {},
   "source": [
    "### Calculating Accuracy using Development Dataset"
   ]
  },
  {
   "cell_type": "code",
   "execution_count": 417,
   "metadata": {},
   "outputs": [
    {
     "name": "stdout",
     "output_type": "stream",
     "text": [
      "ACCURACY:\n",
      "Correctly classified instances: 90\n",
      "Incorrectly classified instances: 0\n",
      "Accuracy based on euclidean  with 1 Neighbors: 100.0 %\n",
      "*********************************************************************\n",
      "\n",
      "\n",
      "ACCURACY:\n",
      "Correctly classified instances: 89\n",
      "Incorrectly classified instances: 1\n",
      "Accuracy based on euclidean  with 3 Neighbors: 98.88888888888889 %\n",
      "*********************************************************************\n",
      "\n",
      "\n",
      "ACCURACY:\n",
      "Correctly classified instances: 89\n",
      "Incorrectly classified instances: 1\n",
      "Accuracy based on euclidean  with 5 Neighbors: 98.88888888888889 %\n",
      "*********************************************************************\n",
      "\n",
      "\n",
      "ACCURACY:\n",
      "Correctly classified instances: 86\n",
      "Incorrectly classified instances: 4\n",
      "Accuracy based on euclidean  with 7 Neighbors: 95.55555555555556 %\n",
      "*********************************************************************\n",
      "\n",
      "\n",
      "ACCURACY:\n",
      "Correctly classified instances: 90\n",
      "Incorrectly classified instances: 0\n",
      "Accuracy based on cosine  with 1 Neighbors: 100.0 %\n",
      "*********************************************************************\n",
      "\n",
      "\n",
      "ACCURACY:\n",
      "Correctly classified instances: 90\n",
      "Incorrectly classified instances: 0\n",
      "Accuracy based on cosine  with 3 Neighbors: 100.0 %\n",
      "*********************************************************************\n",
      "\n",
      "\n",
      "ACCURACY:\n",
      "Correctly classified instances: 90\n",
      "Incorrectly classified instances: 0\n",
      "Accuracy based on cosine  with 5 Neighbors: 100.0 %\n",
      "*********************************************************************\n",
      "\n",
      "\n",
      "ACCURACY:\n",
      "Correctly classified instances: 90\n",
      "Incorrectly classified instances: 0\n",
      "Accuracy based on cosine  with 7 Neighbors: 100.0 %\n",
      "*********************************************************************\n",
      "\n",
      "\n",
      "ACCURACY:\n",
      "Correctly classified instances: 90\n",
      "Incorrectly classified instances: 0\n",
      "Accuracy based on normalized euclidean  with 1 Neighbors: 100.0 %\n",
      "*********************************************************************\n",
      "\n",
      "\n",
      "ACCURACY:\n",
      "Correctly classified instances: 89\n",
      "Incorrectly classified instances: 1\n",
      "Accuracy based on normalized euclidean  with 3 Neighbors: 98.88888888888889 %\n",
      "*********************************************************************\n",
      "\n",
      "\n",
      "ACCURACY:\n",
      "Correctly classified instances: 88\n",
      "Incorrectly classified instances: 2\n",
      "Accuracy based on normalized euclidean  with 5 Neighbors: 97.77777777777777 %\n",
      "*********************************************************************\n",
      "\n",
      "\n",
      "ACCURACY:\n",
      "Correctly classified instances: 88\n",
      "Incorrectly classified instances: 2\n",
      "Accuracy based on normalized euclidean  with 7 Neighbors: 97.77777777777777 %\n",
      "*********************************************************************\n",
      "\n",
      "\n"
     ]
    }
   ],
   "source": [
    "euc1 = KNN_algo(x_train,x_train,1,'euclidean')\n",
    "euc3 = KNN_algo(x_train,x_train,3,'euclidean')\n",
    "euc5 = KNN_algo(x_train,x_train,5,'euclidean')\n",
    "euc7 = KNN_algo(x_train,x_train,7,'euclidean')\n",
    "\n",
    "cos1 = KNN_algo(x_train,x_train,1,'cosine')\n",
    "cos3 = KNN_algo(x_train,x_train,3,'cosine')\n",
    "cos5 = KNN_algo(x_train,x_train,5,'cosine')\n",
    "cos7 = KNN_algo(x_train,x_train,7,'cosine')\n",
    "\n",
    "ne1 = KNN_algo(x_train,x_train,1,'normalized euclidean')\n",
    "ne3 = KNN_algo(x_train,x_train,3,'normalized euclidean')\n",
    "ne5 = KNN_algo(x_train,x_train,5,'normalized euclidean')\n",
    "ne7 = KNN_algo(x_train,x_train,7,'normalized euclidean')"
   ]
  },
  {
   "cell_type": "markdown",
   "metadata": {},
   "source": [
    "### Accuracy barcharts"
   ]
  },
  {
   "cell_type": "code",
   "execution_count": 418,
   "metadata": {},
   "outputs": [],
   "source": [
    "import matplotlib.pyplot as plt"
   ]
  },
  {
   "cell_type": "code",
   "execution_count": 419,
   "metadata": {},
   "outputs": [
    {
     "data": {
      "image/png": "[encoded data removed]",
      "text/plain": [
       "<Figure size 432x288 with 1 Axes>"
      ]
     },
     "metadata": {
      "needs_background": "light"
     },
     "output_type": "display_data"
    }
   ],
   "source": [
    "# data to plot\n",
    "n_groups = 4\n",
    "euclidean = (euc1, euc3, euc5, euc7)\n",
    "cosine = (cos1, cos3, cos5, cos7)\n",
    "normalized_euclidean = (ne1, ne3, ne5, ne7)\n",
    "\n",
    "# create plot\n",
    "fig, ax = plt.subplots()\n",
    "index = np.arange(n_groups)\n",
    "bar_width = 0.20\n",
    "opacity = 0.8\n",
    "\n",
    "rects1 = plt.bar(index, euclidean, bar_width,\n",
    "alpha=opacity,\n",
    "color='b',\n",
    "label='Euclidean')\n",
    "\n",
    "rects2 = plt.bar(index + bar_width, cosine, bar_width,\n",
    "alpha=opacity,\n",
    "color='g',\n",
    "label='Cosine')\n",
    "\n",
    "rects3 = plt.bar(index + bar_width + bar_width, normalized_euclidean, bar_width,\n",
    "alpha=opacity,\n",
    "color='r',\n",
    "label='Normalized Euclidean')\n",
    "\n",
    "plt.xlabel('K - neighbors')\n",
    "plt.ylabel('Accuracy')\n",
    "plt.title('Accuracy')\n",
    "plt.xticks(index + bar_width, ('1', '3', '5', '7'))\n",
    "plt.legend()\n",
    "\n",
    "plt.tight_layout()\n",
    "plt.show()"
   ]
  },
  {
   "cell_type": "markdown",
   "metadata": {},
   "source": [
    "### Final Accuracy using test dataset"
   ]
  },
  {
   "cell_type": "code",
   "execution_count": 420,
   "metadata": {},
   "outputs": [],
   "source": [
    "def KNN_algo(x_test,x_train,k,metric):\n",
    "    rows = x_test.shape[0]\n",
    "    columns = x_train.shape[0]\n",
    "\n",
    "    euc_dist = np.zeros((rows,columns))\n",
    "    cos_dist = np.zeros((rows,columns))\n",
    "    norm_dist = np.zeros((rows,columns))\n",
    "\n",
    "\n",
    "    for row in range(rows):\n",
    "        for col in range(columns):\n",
    "            #for euclidean\n",
    "            euc_dist[row,col] = euclidean_distance(x_test[row], x_train[col])\n",
    "            #for cosine similarity\n",
    "            cos_dist[row,col] = cosine_similarity_func(x_test[row], x_train[col])\n",
    "            #for normalized euclidean distance\n",
    "            norm_dist[row,col] = normalized_euclidean_distance(x_test[row], x_train[col])\n",
    "\n",
    "    if metric.lower() == 'euclidean':\n",
    "        rows = euc_dist.shape[0]\n",
    "        euc_pred = []\n",
    "        \n",
    "        for i in range(rows):\n",
    "            euc_y_idx = np.argsort(euc_dist[i,:])\n",
    "            euc_closest = y_train[euc_y_idx[:k]]\n",
    "            euc_val = Counter(euc_closest).most_common()\n",
    "            euc_pred.append(euc_val[0][0])\n",
    "\n",
    "        num_correct = np.sum(euc_pred == y_test)\n",
    "        accuracy = float(num_correct) / y_test.shape[0]\n",
    "        num_incorr = len(euc_pred) - num_correct\n",
    "    \n",
    "    elif metric.lower() == 'cosine':\n",
    "        rows = cos_dist.shape[0]\n",
    "        cos_pred = []\n",
    "        \n",
    "        for i in range(rows):\n",
    "            cos_y_idx = np.argsort(cos_dist[i,:])\n",
    "            cos_closest = y_train[cos_y_idx[:k]]\n",
    "            cos_val = Counter(cos_closest).most_common()\n",
    "            cos_pred.append(cos_val[0][0])\n",
    "\n",
    "        num_correct = len(intersection(cos_pred,y_test))\n",
    "        accuracy = float(num_correct) / y_test.shape[0]\n",
    "        num_incorr = len(cos_pred) - num_correct\n",
    "        \n",
    "    elif metric.lower() == 'normalized euclidean':\n",
    "        rows = norm_dist.shape[0]\n",
    "        neuc_pred = []\n",
    "\n",
    "        for i in range(rows):\n",
    "            neuc_y_idx = np.argsort(norm_dist[i,:])\n",
    "            neuc_closest = y_train[neuc_y_idx[:k]]\n",
    "            neuc_val = Counter(neuc_closest).most_common()\n",
    "            neuc_pred.append(neuc_val[0][0])   \n",
    "            \n",
    "        num_correct = np.sum(neuc_pred == y_test)\n",
    "        accuracy = float(num_correct) / y_test.shape[0]\n",
    "        num_incorr = len(neuc_pred) - num_correct\n",
    "    \n",
    "    print('ACCURACY:')    \n",
    "    print('Correctly classified instances:', num_correct)\n",
    "    print('Incorrectly classified instances:', num_incorr)\n",
    "    print(\"Accuracy based on\", metric,\" with\", k,\"Neighbors:\", accuracy*100,'%')\n",
    "    print('*********************************************************************')\n",
    "    print('\\n')"
   ]
  },
  {
   "cell_type": "code",
   "execution_count": 424,
   "metadata": {},
   "outputs": [
    {
     "name": "stdout",
     "output_type": "stream",
     "text": [
      "ACCURACY:\n",
      "Correctly classified instances: 28\n",
      "Incorrectly classified instances: 2\n",
      "Accuracy based on normalized euclidean  with 7 Neighbors: 93.33333333333333 %\n",
      "*********************************************************************\n",
      "\n",
      "\n"
     ]
    }
   ],
   "source": [
    "# Using k=7 as best hyperparameter value\n",
    "KNN_algo(x_test,x_train,7,'normalized euclidean')"
   ]
  },
  {
   "cell_type": "code",
   "execution_count": null,
   "metadata": {},
   "outputs": [],
   "source": []
  }
 ],
 "metadata": {
  "kernelspec": {
   "display_name": "Python 3",
   "language": "python",
   "name": "python3"
  },
  "language_info": {
   "codemirror_mode": {
    "name": "ipython",
    "version": 3
   },
   "file_extension": ".py",
   "mimetype": "text/x-python",
   "name": "python",
   "nbconvert_exporter": "python",
   "pygments_lexer": "ipython3",
   "version": "3.8.3"
  }
 },
 "nbformat": 4,
 "nbformat_minor": 4
}
